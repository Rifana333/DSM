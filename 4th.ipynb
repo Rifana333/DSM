import numpy as np
im = np.identity(3)
im
array([[1., 0., 0.],
       [0., 1., 0.],
       [0., 0., 1.]])
 
