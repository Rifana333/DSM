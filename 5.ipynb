import numpy as np

A = np.array([[3, 1],
              [1, 3]])

print("Original matrix A:\n", A)

U, S, VT = np.linalg.svd(A)

print("\nMatrix U (Left singular vectors):\n", U)
print("\nSingular values (Sigma):\n", S)
print("\nMatrix V^T (Right singular vectors transpose):\n", VT)


Sigma = np.zeros((A.shape[0], A.shape[1]))  
np.fill_diagonal(Sigma, S)

print("\nDiagonal matrix Sigma:\n", Sigma)


A_reconstructed = U @ Sigma @ VT

print("\nReconstructed matrix A (U * Sigma * V^T):\n", np.round(A_reconstructed, 2))
     
Original matrix A:
 [[3 1]
 [1 3]]

Matrix U (Left singular vectors):
 [[-0.70710678 -0.70710678]
 [-0.70710678  0.70710678]]

Singular values (Sigma):
 [4. 2.]

Matrix V^T (Right singular vectors transpose):
 [[-0.70710678 -0.70710678]
 [-0.70710678  0.70710678]]

Diagonal matrix Sigma:
 [[4. 0.]
 [0. 2.]]

Reconstructed matrix A (U * Sigma * V^T):
 [[3. 1.]
 [1. 3.]]
 
