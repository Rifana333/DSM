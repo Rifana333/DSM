def calculator():
    print("Simple Calculator")
    print("Operations: +, -, *, /")
    
    while True:
        try:
            num1 = float(input("Enter first number: "))
            op = input("Enter operator (+, -, *, /): ")
            num2 = float(input("Enter second number: "))
            
            if op == '+':
                result = num1 + num2
            elif op == '-':
                result = num1 - num2
            elif op == '*':
                result = num1 * num2
            elif op == '/':
                if num2 == 0:
                    print("Error.")
                    continue
                result = num1 / num2
            else:
                print("Invalid operator.")
                continue
            
            print(f"Result: {result}")
        except ValueError:
            print("Invalid input.")
        
        cont = input("perform another calculation? (y/n): ")
        if cont.lower() != 'y':
            break

calculator()
Simple Calculator
Operations: +, -, *, /
Enter first number: 5
Enter operator (+, -, *, /): +
Enter second number: 25
Result: 30.0
perform another calculation? (y/n): n
